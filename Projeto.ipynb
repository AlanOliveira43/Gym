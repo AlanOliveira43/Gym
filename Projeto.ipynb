{
 "cells": [
  {
   "cell_type": "code",
   "execution_count": 2,
   "metadata": {},
   "outputs": [
    {
     "name": "stdout",
     "output_type": "stream",
     "text": [
      "Erro Médio Absoluto (MAE): 33.858051282051285\n",
      "Previsões (Primeiros 5 exemplos):\n",
      "Previsão: 913.41, Valor Real: 929.00\n",
      "Previsão: 1447.38, Valor Real: 1401.00\n",
      "Previsão: 898.53, Valor Real: 925.00\n",
      "Previsão: 1091.66, Valor Real: 1155.00\n",
      "Previsão: 1424.58, Valor Real: 1587.00\n"
     ]
    }
   ],
   "source": [
    "import pandas as pd\n",
    "from sklearn.model_selection import train_test_split\n",
    "from sklearn.ensemble import RandomForestRegressor\n",
    "from sklearn.metrics import mean_absolute_error\n",
    "\n",
    "# Carregar os dados\n",
    "file_path = 'gym_members_exercise_tracking.csv'\n",
    "data = pd.read_csv(file_path)\n",
    "\n",
    "# Limpar e preparar os dados\n",
    "data_cleaned = data.copy()\n",
    "\n",
    "# Convertendo variáveis categóricas em numéricas\n",
    "data_cleaned['Gender'] = data_cleaned['Gender'].map({'Male': 1, 'Female': 0})\n",
    "data_cleaned['Workout_Type'] = data_cleaned['Workout_Type'].astype('category').cat.codes\n",
    "\n",
    "# Selecionando as features e o target\n",
    "X = data_cleaned[['Age', 'Gender', 'Weight (kg)', 'Height (m)', 'Max_BPM', 'Avg_BPM', 'Resting_BPM',\n",
    "                  'Session_Duration (hours)', 'Workout_Type', 'Experience_Level']]\n",
    "y = data_cleaned['Calories_Burned']\n",
    "\n",
    "# Dividindo os dados em treino e teste\n",
    "X_train, X_test, y_train, y_test = train_test_split(X, y, test_size=0.2, random_state=42)\n",
    "\n",
    "# Treinando o modelo RandomForestRegressor\n",
    "model = RandomForestRegressor(random_state=42)\n",
    "model.fit(X_train, y_train)\n",
    "\n",
    "# Fazendo previsões\n",
    "y_pred = model.predict(X_test)\n",
    "\n",
    "# Avaliando o modelo\n",
    "mae = mean_absolute_error(y_test, y_pred)\n",
    "\n",
    "# Exibindo os resultados\n",
    "print(f\"Erro Médio Absoluto (MAE): {mae}\")\n",
    "print(\"Previsões (Primeiros 5 exemplos):\")\n",
    "for i in range(5):\n",
    "    print(f\"Previsão: {y_pred[i]:.2f}, Valor Real: {y_test.values[i]:.2f}\")\n"
   ]
  }
 ],
 "metadata": {
  "kernelspec": {
   "display_name": "Python 3",
   "language": "python",
   "name": "python3"
  },
  "language_info": {
   "codemirror_mode": {
    "name": "ipython",
    "version": 3
   },
   "file_extension": ".py",
   "mimetype": "text/x-python",
   "name": "python",
   "nbconvert_exporter": "python",
   "pygments_lexer": "ipython3",
   "version": "3.11.4"
  }
 },
 "nbformat": 4,
 "nbformat_minor": 2
}
